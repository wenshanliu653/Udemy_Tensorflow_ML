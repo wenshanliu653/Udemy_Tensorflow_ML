{
  "nbformat": 4,
  "nbformat_minor": 0,
  "metadata": {
    "colab": {
      "provenance": [],
      "authorship_tag": "ABX9TyPVcmgFXMNp1SANbkylOZV2",
      "include_colab_link": true
    },
    "kernelspec": {
      "name": "python3",
      "display_name": "Python 3"
    },
    "language_info": {
      "name": "python"
    }
  },
  "cells": [
    {
      "cell_type": "markdown",
      "metadata": {
        "id": "view-in-github",
        "colab_type": "text"
      },
      "source": [
        "<a href=\"https://colab.research.google.com/github/wenshanliu653/Udemy_Tensorflow_ML/blob/main/01_Neural_Network_Regression_with_TensorFlow.ipynb\" target=\"_parent\"><img src=\"https://colab.research.google.com/assets/colab-badge.svg\" alt=\"Open In Colab\"/></a>"
      ]
    },
    {
      "cell_type": "code",
      "execution_count": 46,
      "metadata": {
        "colab": {
          "base_uri": "https://localhost:8080/"
        },
        "id": "sDAC46f2ejCi",
        "outputId": "87c91167-d21d-43f8-e788-ed382b09f4b6"
      },
      "outputs": [
        {
          "output_type": "stream",
          "name": "stdout",
          "text": [
            "2.15.0\n",
            "Notebook last run (end-to-end): 2024-01-23 05:03:32.026132\n"
          ]
        }
      ],
      "source": [
        "import tensorflow as tf\n",
        "print(tf.__version__) # check the version (should be 2.x+)\n",
        "\n",
        "import datetime\n",
        "print(f\"Notebook last run (end-to-end): {datetime.datetime.now()}\")"
      ]
    },
    {
      "cell_type": "markdown",
      "source": [
        "# **Creating data to view and fit**\n",
        "Since we're working on a regression problem (predicting a number) let's create some linear data (a straight line) to model."
      ],
      "metadata": {
        "id": "lnPp5pIyjd81"
      }
    },
    {
      "cell_type": "code",
      "source": [
        "import numpy as np\n",
        "import matplotlib.pyplot as plt\n",
        "\n",
        "#Create features\n",
        "X= np.array([-7.0,-4.0,-1.0,2.0,5.0,8.0,11.0,14.0])\n",
        "\n",
        "#Create labels\n",
        "y = np.array([3.0,6.0,9.0,12.0,15.0,18.0,21,24.0])\n",
        "\n",
        "#Visulize\n",
        "plt.scatter(X,y)"
      ],
      "metadata": {
        "colab": {
          "base_uri": "https://localhost:8080/",
          "height": 452
        },
        "id": "5H2UYfxQjYsF",
        "outputId": "e260f3e6-3042-4a21-ded8-291d15c3fd66"
      },
      "execution_count": 47,
      "outputs": [
        {
          "output_type": "execute_result",
          "data": {
            "text/plain": [
              "<matplotlib.collections.PathCollection at 0x7f005740b9d0>"
            ]
          },
          "metadata": {},
          "execution_count": 47
        },
        {
          "output_type": "display_data",
          "data": {
            "text/plain": [
              "<Figure size 640x480 with 1 Axes>"
            ],
            "image/png": "[encoded data removed]"
          },
          "metadata": {}
        }
      ]
    },
    {
      "cell_type": "code",
      "source": [
        "#Relation of X and y\n",
        "\n",
        "y == X+10\n"
      ],
      "metadata": {
        "colab": {
          "base_uri": "https://localhost:8080/"
        },
        "id": "zN2qxlYSkITv",
        "outputId": "34bd7fc9-2890-418e-df7a-6255547a67d6"
      },
      "execution_count": 48,
      "outputs": [
        {
          "output_type": "execute_result",
          "data": {
            "text/plain": [
              "array([ True,  True,  True,  True,  True,  True,  True,  True])"
            ]
          },
          "metadata": {},
          "execution_count": 48
        }
      ]
    },
    {
      "cell_type": "markdown",
      "source": [
        "# **Regression input shapes and output shapes**\n",
        "\n",
        "One of the most important concepts when working with neural networks are the input and output shapes.\n",
        "\n",
        "The input shape is the shape of your data that goes into the model.\n",
        "\n",
        "The output shape is the shape of your data you want to come out of your model.\n",
        "\n",
        "These will differ depending on the problem you're working on.\n",
        "\n",
        "Neural networks accept numbers and output numbers. These numbers are typically represented as tensors (or arrays).\n",
        "\n",
        "Before, we created data using NumPy arrays, but we could do the same with tensors."
      ],
      "metadata": {
        "id": "JKhWxLLml1SU"
      }
    },
    {
      "cell_type": "code",
      "source": [
        "#Example input and output shape of a regression model\n",
        "\n",
        "house_info =tf.constant([\"bedroom\", \"bathroon\", \"garage\"])\n",
        "house_price = tf.constant([939700])\n",
        "\n",
        "house_info, house_price"
      ],
      "metadata": {
        "colab": {
          "base_uri": "https://localhost:8080/"
        },
        "id": "_inx8xUdkf7u",
        "outputId": "f13ed28f-18f3-4d72-f32f-d32fceced729"
      },
      "execution_count": 49,
      "outputs": [
        {
          "output_type": "execute_result",
          "data": {
            "text/plain": [
              "(<tf.Tensor: shape=(3,), dtype=string, numpy=array([b'bedroom', b'bathroon', b'garage'], dtype=object)>,\n",
              " <tf.Tensor: shape=(1,), dtype=int32, numpy=array([939700], dtype=int32)>)"
            ]
          },
          "metadata": {},
          "execution_count": 49
        }
      ]
    },
    {
      "cell_type": "code",
      "source": [
        "house_info.shape #house_info 的shape"
      ],
      "metadata": {
        "colab": {
          "base_uri": "https://localhost:8080/"
        },
        "id": "b0j-OoA7mX0Q",
        "outputId": "84e7ac58-50c2-4a2f-8057-b7924c0d83cd"
      },
      "execution_count": 50,
      "outputs": [
        {
          "output_type": "execute_result",
          "data": {
            "text/plain": [
              "TensorShape([3])"
            ]
          },
          "metadata": {},
          "execution_count": 50
        }
      ]
    },
    {
      "cell_type": "code",
      "source": [
        "house_price.shape #house_price 的shape"
      ],
      "metadata": {
        "colab": {
          "base_uri": "https://localhost:8080/"
        },
        "id": "HlcT_pnwmaMh",
        "outputId": "e2d8b83a-4697-4bd7-ae8e-3bb9a09bb973"
      },
      "execution_count": 51,
      "outputs": [
        {
          "output_type": "execute_result",
          "data": {
            "text/plain": [
              "TensorShape([1])"
            ]
          },
          "metadata": {},
          "execution_count": 51
        }
      ]
    },
    {
      "cell_type": "code",
      "source": [
        "input_shape = house_info.shape\n",
        "output_shape = house_price.shape\n",
        "\n",
        "input_shape, output_shape # these are both scalars (no shape)\n"
      ],
      "metadata": {
        "colab": {
          "base_uri": "https://localhost:8080/"
        },
        "id": "1fqXe7AxmiGE",
        "outputId": "f7689b87-39f7-4465-9962-e1b145914228"
      },
      "execution_count": 52,
      "outputs": [
        {
          "output_type": "execute_result",
          "data": {
            "text/plain": [
              "(TensorShape([3]), TensorShape([1]))"
            ]
          },
          "metadata": {},
          "execution_count": 52
        }
      ]
    },
    {
      "cell_type": "code",
      "source": [
        "\n",
        "# Take a single example of X\n",
        "input_shape = X[0].shape  #如果只放單一element.shape, 則不會有張量輸出\n",
        "\n",
        "# Take a single example of y\n",
        "output_shape = y[0].shape\n",
        "\n",
        "input_shape, output_shape # these are both scalars (no shape)"
      ],
      "metadata": {
        "colab": {
          "base_uri": "https://localhost:8080/"
        },
        "id": "mdggk5snm0FX",
        "outputId": "95a9fc25-a10b-4aa5-a06c-5fcdf75ea5e3"
      },
      "execution_count": 53,
      "outputs": [
        {
          "output_type": "execute_result",
          "data": {
            "text/plain": [
              "((), ())"
            ]
          },
          "metadata": {},
          "execution_count": 53
        }
      ]
    },
    {
      "cell_type": "markdown",
      "source": [
        "# **Steps in modelling with TensorFlow**\n",
        "Now we know what data we have as well as the input and output shapes, let's see how we'd build a neural network to model it.\n",
        "\n",
        "In TensorFlow, there are typically 3 fundamental steps to creating and training a model.\n",
        "\n",
        "**1.Creating a model** - define the input and output layer, as well as the hidden layers of a deep learning model.\n",
        "\n",
        "**2.Compiling a model**- defining how a models performance should be measured (loss/metrics) as well as defining how it should improve (optimizer).\n",
        "\n",
        "**3.Fitting a model** - letting the model try to find patterns in the data (how does X get to y). (feautures and labels)\n",
        "\n",
        "Let's see these in action using the Keras Sequential API to build a model for our regression data. And then we'll step through each."
      ],
      "metadata": {
        "id": "OBkTlpxpl4qt"
      }
    },
    {
      "cell_type": "code",
      "source": [
        "#Set random seed\n",
        "tf.random.set_seed(42)\n",
        "\n",
        "#Create a model using the Sequential API\n",
        "model = tf.keras.Sequential( #序列模型（Sequential） 序列模型各层之间是依次顺序的线性关系，模型结构通过一个列表来制定 或者逐层添加网络结构\n",
        "    [tf.keras.layers.Dense(1)]\n",
        ")\n",
        "\n",
        "#Compile the model\n",
        "model.compile(loss = tf.keras.losses.mae,  #mean absolute error\n",
        "              optimizer=tf.keras.optimizers.SGD(), #Stochastic grandient desecent\n",
        "              metrics=[\"mae\"])\n",
        "\n",
        "#Fit the model\n",
        "model.fit(tf.expand_dims(X, axis =-1),y ,epochs = 5)"
      ],
      "metadata": {
        "colab": {
          "base_uri": "https://localhost:8080/"
        },
        "id": "-b6mFAyvlz0Y",
        "outputId": "bf0a29a7-8c32-4420-d3bf-98d73ef3d170"
      },
      "execution_count": 54,
      "outputs": [
        {
          "output_type": "stream",
          "name": "stdout",
          "text": [
            "Epoch 1/5\n",
            "1/1 [==============================] - 1s 981ms/step - loss: 15.6852 - mae: 15.6852\n",
            "Epoch 2/5\n",
            "1/1 [==============================] - 0s 18ms/step - loss: 15.4040 - mae: 15.4040\n",
            "Epoch 3/5\n",
            "1/1 [==============================] - 0s 20ms/step - loss: 15.1227 - mae: 15.1227\n",
            "Epoch 4/5\n",
            "1/1 [==============================] - 0s 25ms/step - loss: 14.8831 - mae: 14.8831\n",
            "Epoch 5/5\n",
            "1/1 [==============================] - 0s 33ms/step - loss: 14.7506 - mae: 14.7506\n"
          ]
        },
        {
          "output_type": "execute_result",
          "data": {
            "text/plain": [
              "<keras.src.callbacks.History at 0x7f0057485060>"
            ]
          },
          "metadata": {},
          "execution_count": 54
        }
      ]
    },
    {
      "cell_type": "code",
      "source": [
        "#Check X, y\n",
        "\n",
        "X,y"
      ],
      "metadata": {
        "colab": {
          "base_uri": "https://localhost:8080/"
        },
        "id": "hnzl38xSnBKI",
        "outputId": "798f6f4f-192e-4b16-fa35-1ee31cb2f8ad"
      },
      "execution_count": 55,
      "outputs": [
        {
          "output_type": "execute_result",
          "data": {
            "text/plain": [
              "(array([-7., -4., -1.,  2.,  5.,  8., 11., 14.]),\n",
              " array([ 3.,  6.,  9., 12., 15., 18., 21., 24.]))"
            ]
          },
          "metadata": {},
          "execution_count": 55
        }
      ]
    },
    {
      "cell_type": "code",
      "source": [
        "#Make a preditction with the model\n",
        "model.predict([17.0]) #當X=17時 y 應該要約27 , 但答案只有２５\n"
      ],
      "metadata": {
        "colab": {
          "base_uri": "https://localhost:8080/"
        },
        "id": "HyefZl9enHuy",
        "outputId": "e7bbcffe-c4e8-479b-c11e-b20c91690b8d"
      },
      "execution_count": 56,
      "outputs": [
        {
          "output_type": "stream",
          "name": "stdout",
          "text": [
            "1/1 [==============================] - 0s 147ms/step\n"
          ]
        },
        {
          "output_type": "execute_result",
          "data": {
            "text/plain": [
              "array([[-5.594603]], dtype=float32)"
            ]
          },
          "metadata": {},
          "execution_count": 56
        }
      ]
    },
    {
      "cell_type": "markdown",
      "source": [
        "# **Improve our model**\n",
        "\n",
        "How do you think you'd improve upon our current model?\n",
        "\n",
        "If you guessed by tweaking some of the things we did above, you'd be correct.\n",
        "\n",
        "To improve our model, we alter almost every part of the 3 steps we went through before.\n",
        "\n",
        "**Creating a model** - here you might want to add more layers, increase the number of hidden units (also called neurons) within each layer, change the activation functions of each layer.\n",
        "\n",
        "**Compiling a model** - you might want to choose optimization function or perhaps change the learning rate of the optimization function.\n",
        "\n",
        "**Fitting a model** - perhaps you could fit a model for more epochs (leave it training for longer) or on more data (give the model more examples to learn from).\n"
      ],
      "metadata": {
        "id": "oNGeSxFUMnt5"
      }
    },
    {
      "cell_type": "code",
      "source": [
        "#renbuild the model\n",
        "\n",
        "#create the model\n",
        "model = tf.keras.Sequential([\n",
        "    tf.keras.layers.Dense(1)\n",
        "]\n",
        ")\n",
        "\n",
        "# Compile the model\n",
        "model.compile(loss = tf.keras.losses.mae,\n",
        "              optimizer = tf.keras.optimizers.SGD(),\n",
        "              metrics = [\"mae\"])\n",
        "\n",
        "#Fit the model\n",
        "model.fit(tf.expand_dims(X , axis = -1) ,y, epochs = 100)\n"
      ],
      "metadata": {
        "id": "He1N6irknPTr",
        "colab": {
          "base_uri": "https://localhost:8080/"
        },
        "outputId": "f31f41b8-657e-4f9f-87b7-1e387f8498dd"
      },
      "execution_count": 57,
      "outputs": [
        {
          "output_type": "stream",
          "name": "stdout",
          "text": [
            "Epoch 1/100\n",
            "1/1 [==============================] - 1s 745ms/step - loss: 18.5172 - mae: 18.5172\n",
            "Epoch 2/100\n",
            "1/1 [==============================] - 0s 21ms/step - loss: 18.2359 - mae: 18.2359\n",
            "Epoch 3/100\n",
            "1/1 [==============================] - 0s 27ms/step - loss: 17.9547 - mae: 17.9547\n",
            "Epoch 4/100\n",
            "1/1 [==============================] - 0s 23ms/step - loss: 17.6734 - mae: 17.6734\n",
            "Epoch 5/100\n",
            "1/1 [==============================] - 0s 24ms/step - loss: 17.3922 - mae: 17.3922\n",
            "Epoch 6/100\n",
            "1/1 [==============================] - 0s 16ms/step - loss: 17.1109 - mae: 17.1109\n",
            "Epoch 7/100\n",
            "1/1 [==============================] - 0s 16ms/step - loss: 16.8297 - mae: 16.8297\n",
            "Epoch 8/100\n",
            "1/1 [==============================] - 0s 15ms/step - loss: 16.5484 - mae: 16.5484\n",
            "Epoch 9/100\n",
            "1/1 [==============================] - 0s 28ms/step - loss: 16.2672 - mae: 16.2672\n",
            "Epoch 10/100\n",
            "1/1 [==============================] - 0s 17ms/step - loss: 15.9859 - mae: 15.9859\n",
            "Epoch 11/100\n",
            "1/1 [==============================] - 0s 17ms/step - loss: 15.7047 - mae: 15.7047\n",
            "Epoch 12/100\n",
            "1/1 [==============================] - 0s 34ms/step - loss: 15.4234 - mae: 15.4234\n",
            "Epoch 13/100\n",
            "1/1 [==============================] - 0s 16ms/step - loss: 15.1422 - mae: 15.1422\n",
            "Epoch 14/100\n",
            "1/1 [==============================] - 0s 23ms/step - loss: 14.8609 - mae: 14.8609\n",
            "Epoch 15/100\n",
            "1/1 [==============================] - 0s 20ms/step - loss: 14.6673 - mae: 14.6673\n",
            "Epoch 16/100\n",
            "1/1 [==============================] - 0s 78ms/step - loss: 14.5348 - mae: 14.5348\n",
            "Epoch 17/100\n",
            "1/1 [==============================] - 0s 48ms/step - loss: 14.4023 - mae: 14.4023\n",
            "Epoch 18/100\n",
            "1/1 [==============================] - 0s 28ms/step - loss: 14.2698 - mae: 14.2698\n",
            "Epoch 19/100\n",
            "1/1 [==============================] - 0s 41ms/step - loss: 14.1373 - mae: 14.1373\n",
            "Epoch 20/100\n",
            "1/1 [==============================] - 0s 18ms/step - loss: 14.0048 - mae: 14.0048\n",
            "Epoch 21/100\n",
            "1/1 [==============================] - 0s 23ms/step - loss: 13.8723 - mae: 13.8723\n",
            "Epoch 22/100\n",
            "1/1 [==============================] - 0s 30ms/step - loss: 13.7398 - mae: 13.7398\n",
            "Epoch 23/100\n",
            "1/1 [==============================] - 0s 30ms/step - loss: 13.6073 - mae: 13.6073\n",
            "Epoch 24/100\n",
            "1/1 [==============================] - 0s 19ms/step - loss: 13.4748 - mae: 13.4748\n",
            "Epoch 25/100\n",
            "1/1 [==============================] - 0s 21ms/step - loss: 13.3423 - mae: 13.3423\n",
            "Epoch 26/100\n",
            "1/1 [==============================] - 0s 28ms/step - loss: 13.2098 - mae: 13.2098\n",
            "Epoch 27/100\n",
            "1/1 [==============================] - 0s 17ms/step - loss: 13.0773 - mae: 13.0773\n",
            "Epoch 28/100\n",
            "1/1 [==============================] - 0s 18ms/step - loss: 12.9448 - mae: 12.9448\n",
            "Epoch 29/100\n",
            "1/1 [==============================] - 0s 21ms/step - loss: 12.8123 - mae: 12.8123\n",
            "Epoch 30/100\n",
            "1/1 [==============================] - 0s 22ms/step - loss: 12.6798 - mae: 12.6798\n",
            "Epoch 31/100\n",
            "1/1 [==============================] - 0s 19ms/step - loss: 12.5473 - mae: 12.5473\n",
            "Epoch 32/100\n",
            "1/1 [==============================] - 0s 18ms/step - loss: 12.4148 - mae: 12.4148\n",
            "Epoch 33/100\n",
            "1/1 [==============================] - 0s 27ms/step - loss: 12.2823 - mae: 12.2823\n",
            "Epoch 34/100\n",
            "1/1 [==============================] - 0s 22ms/step - loss: 12.1498 - mae: 12.1498\n",
            "Epoch 35/100\n",
            "1/1 [==============================] - 0s 21ms/step - loss: 12.0173 - mae: 12.0173\n",
            "Epoch 36/100\n",
            "1/1 [==============================] - 0s 18ms/step - loss: 11.8848 - mae: 11.8848\n",
            "Epoch 37/100\n",
            "1/1 [==============================] - 0s 14ms/step - loss: 11.7523 - mae: 11.7523\n",
            "Epoch 38/100\n",
            "1/1 [==============================] - 0s 14ms/step - loss: 11.6198 - mae: 11.6198\n",
            "Epoch 39/100\n",
            "1/1 [==============================] - 0s 13ms/step - loss: 11.4873 - mae: 11.4873\n",
            "Epoch 40/100\n",
            "1/1 [==============================] - 0s 29ms/step - loss: 11.3548 - mae: 11.3548\n",
            "Epoch 41/100\n",
            "1/1 [==============================] - 0s 18ms/step - loss: 11.2223 - mae: 11.2223\n",
            "Epoch 42/100\n",
            "1/1 [==============================] - 0s 36ms/step - loss: 11.0898 - mae: 11.0898\n",
            "Epoch 43/100\n",
            "1/1 [==============================] - 0s 23ms/step - loss: 10.9573 - mae: 10.9573\n",
            "Epoch 44/100\n",
            "1/1 [==============================] - 0s 19ms/step - loss: 10.8248 - mae: 10.8248\n",
            "Epoch 45/100\n",
            "1/1 [==============================] - 0s 23ms/step - loss: 10.6923 - mae: 10.6923\n",
            "Epoch 46/100\n",
            "1/1 [==============================] - 0s 30ms/step - loss: 10.5598 - mae: 10.5598\n",
            "Epoch 47/100\n",
            "1/1 [==============================] - 0s 15ms/step - loss: 10.4273 - mae: 10.4273\n",
            "Epoch 48/100\n",
            "1/1 [==============================] - 0s 19ms/step - loss: 10.2948 - mae: 10.2948\n",
            "Epoch 49/100\n",
            "1/1 [==============================] - 0s 44ms/step - loss: 10.1623 - mae: 10.1623\n",
            "Epoch 50/100\n",
            "1/1 [==============================] - 0s 19ms/step - loss: 10.0298 - mae: 10.0298\n",
            "Epoch 51/100\n",
            "1/1 [==============================] - 0s 19ms/step - loss: 9.8973 - mae: 9.8973\n",
            "Epoch 52/100\n",
            "1/1 [==============================] - 0s 20ms/step - loss: 9.7648 - mae: 9.7648\n",
            "Epoch 53/100\n",
            "1/1 [==============================] - 0s 25ms/step - loss: 9.6323 - mae: 9.6323\n",
            "Epoch 54/100\n",
            "1/1 [==============================] - 0s 31ms/step - loss: 9.4998 - mae: 9.4998\n",
            "Epoch 55/100\n",
            "1/1 [==============================] - 0s 23ms/step - loss: 9.3673 - mae: 9.3673\n",
            "Epoch 56/100\n",
            "1/1 [==============================] - 0s 21ms/step - loss: 9.2348 - mae: 9.2348\n",
            "Epoch 57/100\n",
            "1/1 [==============================] - 0s 25ms/step - loss: 9.1023 - mae: 9.1023\n",
            "Epoch 58/100\n",
            "1/1 [==============================] - 0s 24ms/step - loss: 8.9698 - mae: 8.9698\n",
            "Epoch 59/100\n",
            "1/1 [==============================] - 0s 24ms/step - loss: 8.8373 - mae: 8.8373\n",
            "Epoch 60/100\n",
            "1/1 [==============================] - 0s 25ms/step - loss: 8.7048 - mae: 8.7048\n",
            "Epoch 61/100\n",
            "1/1 [==============================] - 0s 23ms/step - loss: 8.5723 - mae: 8.5723\n",
            "Epoch 62/100\n",
            "1/1 [==============================] - 0s 26ms/step - loss: 8.4398 - mae: 8.4398\n",
            "Epoch 63/100\n",
            "1/1 [==============================] - 0s 23ms/step - loss: 8.3073 - mae: 8.3073\n",
            "Epoch 64/100\n",
            "1/1 [==============================] - 0s 22ms/step - loss: 8.1748 - mae: 8.1748\n",
            "Epoch 65/100\n",
            "1/1 [==============================] - 0s 35ms/step - loss: 8.0423 - mae: 8.0423\n",
            "Epoch 66/100\n",
            "1/1 [==============================] - 0s 30ms/step - loss: 7.9098 - mae: 7.9098\n",
            "Epoch 67/100\n",
            "1/1 [==============================] - 0s 20ms/step - loss: 7.7773 - mae: 7.7773\n",
            "Epoch 68/100\n",
            "1/1 [==============================] - 0s 19ms/step - loss: 7.6448 - mae: 7.6448\n",
            "Epoch 69/100\n",
            "1/1 [==============================] - 0s 19ms/step - loss: 7.5123 - mae: 7.5123\n",
            "Epoch 70/100\n",
            "1/1 [==============================] - 0s 23ms/step - loss: 7.3798 - mae: 7.3798\n",
            "Epoch 71/100\n",
            "1/1 [==============================] - 0s 19ms/step - loss: 7.2473 - mae: 7.2473\n",
            "Epoch 72/100\n",
            "1/1 [==============================] - 0s 26ms/step - loss: 7.1148 - mae: 7.1148\n",
            "Epoch 73/100\n",
            "1/1 [==============================] - 0s 21ms/step - loss: 6.9863 - mae: 6.9863\n",
            "Epoch 74/100\n",
            "1/1 [==============================] - 0s 26ms/step - loss: 6.9806 - mae: 6.9806\n",
            "Epoch 75/100\n",
            "1/1 [==============================] - 0s 29ms/step - loss: 6.9750 - mae: 6.9750\n",
            "Epoch 76/100\n",
            "1/1 [==============================] - 0s 41ms/step - loss: 6.9694 - mae: 6.9694\n",
            "Epoch 77/100\n",
            "1/1 [==============================] - 0s 28ms/step - loss: 6.9638 - mae: 6.9638\n",
            "Epoch 78/100\n",
            "1/1 [==============================] - 0s 18ms/step - loss: 6.9581 - mae: 6.9581\n",
            "Epoch 79/100\n",
            "1/1 [==============================] - 0s 28ms/step - loss: 6.9525 - mae: 6.9525\n",
            "Epoch 80/100\n",
            "1/1 [==============================] - 0s 36ms/step - loss: 6.9469 - mae: 6.9469\n",
            "Epoch 81/100\n",
            "1/1 [==============================] - 0s 50ms/step - loss: 6.9412 - mae: 6.9412\n",
            "Epoch 82/100\n",
            "1/1 [==============================] - 0s 45ms/step - loss: 6.9356 - mae: 6.9356\n",
            "Epoch 83/100\n",
            "1/1 [==============================] - 0s 33ms/step - loss: 6.9300 - mae: 6.9300\n",
            "Epoch 84/100\n",
            "1/1 [==============================] - 0s 28ms/step - loss: 6.9244 - mae: 6.9244\n",
            "Epoch 85/100\n",
            "1/1 [==============================] - 0s 39ms/step - loss: 6.9188 - mae: 6.9188\n",
            "Epoch 86/100\n",
            "1/1 [==============================] - 0s 42ms/step - loss: 6.9131 - mae: 6.9131\n",
            "Epoch 87/100\n",
            "1/1 [==============================] - 0s 33ms/step - loss: 6.9075 - mae: 6.9075\n",
            "Epoch 88/100\n",
            "1/1 [==============================] - 0s 34ms/step - loss: 6.9019 - mae: 6.9019\n",
            "Epoch 89/100\n",
            "1/1 [==============================] - 0s 28ms/step - loss: 6.8963 - mae: 6.8963\n",
            "Epoch 90/100\n",
            "1/1 [==============================] - 0s 18ms/step - loss: 6.8906 - mae: 6.8906\n",
            "Epoch 91/100\n",
            "1/1 [==============================] - 0s 35ms/step - loss: 6.8850 - mae: 6.8850\n",
            "Epoch 92/100\n",
            "1/1 [==============================] - 0s 37ms/step - loss: 6.8794 - mae: 6.8794\n",
            "Epoch 93/100\n",
            "1/1 [==============================] - 0s 33ms/step - loss: 6.8738 - mae: 6.8738\n",
            "Epoch 94/100\n",
            "1/1 [==============================] - 0s 18ms/step - loss: 6.8681 - mae: 6.8681\n",
            "Epoch 95/100\n",
            "1/1 [==============================] - 0s 23ms/step - loss: 6.8625 - mae: 6.8625\n",
            "Epoch 96/100\n",
            "1/1 [==============================] - 0s 53ms/step - loss: 6.8569 - mae: 6.8569\n",
            "Epoch 97/100\n",
            "1/1 [==============================] - 0s 26ms/step - loss: 6.8513 - mae: 6.8513\n",
            "Epoch 98/100\n",
            "1/1 [==============================] - 0s 24ms/step - loss: 6.8456 - mae: 6.8456\n",
            "Epoch 99/100\n",
            "1/1 [==============================] - 0s 43ms/step - loss: 6.8400 - mae: 6.8400\n",
            "Epoch 100/100\n",
            "1/1 [==============================] - 0s 60ms/step - loss: 6.8344 - mae: 6.8344\n"
          ]
        },
        {
          "output_type": "execute_result",
          "data": {
            "text/plain": [
              "<keras.src.callbacks.History at 0x7f005732b5b0>"
            ]
          },
          "metadata": {},
          "execution_count": 57
        }
      ]
    },
    {
      "cell_type": "code",
      "source": [
        "#Remind ourselves of the data\n",
        "X, y"
      ],
      "metadata": {
        "colab": {
          "base_uri": "https://localhost:8080/"
        },
        "id": "6HsDJvh7SWVf",
        "outputId": "ff52b23f-0142-4b76-e819-46501bba4807"
      },
      "execution_count": 60,
      "outputs": [
        {
          "output_type": "execute_result",
          "data": {
            "text/plain": [
              "(array([-7., -4., -1.,  2.,  5.,  8., 11., 14.]),\n",
              " array([ 3.,  6.,  9., 12., 15., 18., 21., 24.]))"
            ]
          },
          "metadata": {},
          "execution_count": 60
        }
      ]
    },
    {
      "cell_type": "code",
      "source": [
        "#Our model's predit\n",
        "model.predict([17.0]) # the right answer is 27.0 (y = X + 10)"
      ],
      "metadata": {
        "colab": {
          "base_uri": "https://localhost:8080/"
        },
        "id": "AUfUD2a4VPp4",
        "outputId": "838fd086-cf17-4a44-fc87-1c44a16557bf"
      },
      "execution_count": 61,
      "outputs": [
        {
          "output_type": "stream",
          "name": "stdout",
          "text": [
            "1/1 [==============================] - 0s 85ms/step\n"
          ]
        },
        {
          "output_type": "execute_result",
          "data": {
            "text/plain": [
              "array([[29.225279]], dtype=float32)"
            ]
          },
          "metadata": {},
          "execution_count": 61
        }
      ]
    },
    {
      "cell_type": "markdown",
      "source": [
        "# **Improve our model2**\n",
        "\n",
        "Comman ways to improve the model:\n",
        "- Adding layers\n",
        "- Increase the numbers of hidden units\n",
        "- Change the activation functions\n",
        "- Change the optimization function\n",
        "- Change the learning rate\n",
        "- fitting on more data\n",
        "- fitting for longer"
      ],
      "metadata": {
        "id": "5hQhKrizWKiO"
      }
    },
    {
      "cell_type": "code",
      "source": [
        " #create the model\n",
        "model = tf.keras.Sequential([\n",
        "    tf.keras.layers.Dense(100, activation =\"relu\"),  #actibation function ->Example: Sigmoid function\n",
        "    tf.keras.layers.Dense(100, activation = \"relu\"),\n",
        "    tf.keras.layers.Dense(100, activation = \"relu\"),# 3 hidden layers, 100 hidden units\n",
        "    tf.keras.layers.Dense(1)\n",
        "])\n",
        "\n",
        "#Complile the model\n",
        "\n",
        "model.compile(loss = tf.keras.losses.mae,\n",
        "               #optimizer = tf.keras.optimizers.SGD(lr =0.01),\n",
        "              optimizer = tf.keras.optimizers.Adam(lr =0.01),\n",
        "              metrics = [\"mae\"])\n",
        "\n",
        "#fit the model\n",
        "model.fit(tf.expand_dims(X , axis = -1), y, epochs = 100) #epochs=100 -> fitting for longer"
      ],
      "metadata": {
        "colab": {
          "base_uri": "https://localhost:8080/"
        },
        "id": "JKqAChdWVUDV",
        "outputId": "e7b57551-092c-4f9c-99d8-6a96b7dd5a0b"
      },
      "execution_count": 62,
      "outputs": [
        {
          "output_type": "stream",
          "name": "stderr",
          "text": [
            "WARNING:absl:`lr` is deprecated in Keras optimizer, please use `learning_rate` or use the legacy optimizer, e.g.,tf.keras.optimizers.legacy.Adam.\n"
          ]
        },
        {
          "output_type": "stream",
          "name": "stdout",
          "text": [
            "Epoch 1/100\n",
            "1/1 [==============================] - 1s 977ms/step - loss: 13.2116 - mae: 13.2116\n",
            "Epoch 2/100\n",
            "1/1 [==============================] - 0s 12ms/step - loss: 12.8860 - mae: 12.8860\n",
            "Epoch 3/100\n",
            "1/1 [==============================] - 0s 14ms/step - loss: 12.5625 - mae: 12.5625\n",
            "Epoch 4/100\n",
            "1/1 [==============================] - 0s 13ms/step - loss: 12.2352 - mae: 12.2352\n",
            "Epoch 5/100\n",
            "1/1 [==============================] - 0s 17ms/step - loss: 11.9214 - mae: 11.9214\n",
            "Epoch 6/100\n",
            "1/1 [==============================] - 0s 14ms/step - loss: 11.6090 - mae: 11.6090\n",
            "Epoch 7/100\n",
            "1/1 [==============================] - 0s 15ms/step - loss: 11.3018 - mae: 11.3018\n",
            "Epoch 8/100\n",
            "1/1 [==============================] - 0s 17ms/step - loss: 10.9878 - mae: 10.9878\n",
            "Epoch 9/100\n",
            "1/1 [==============================] - 0s 11ms/step - loss: 10.6636 - mae: 10.6636\n",
            "Epoch 10/100\n",
            "1/1 [==============================] - 0s 12ms/step - loss: 10.3724 - mae: 10.3724\n",
            "Epoch 11/100\n",
            "1/1 [==============================] - 0s 12ms/step - loss: 10.0987 - mae: 10.0987\n",
            "Epoch 12/100\n",
            "1/1 [==============================] - 0s 13ms/step - loss: 9.8092 - mae: 9.8092\n",
            "Epoch 13/100\n",
            "1/1 [==============================] - 0s 11ms/step - loss: 9.5077 - mae: 9.5077\n",
            "Epoch 14/100\n",
            "1/1 [==============================] - 0s 11ms/step - loss: 9.1875 - mae: 9.1875\n",
            "Epoch 15/100\n",
            "1/1 [==============================] - 0s 11ms/step - loss: 8.8545 - mae: 8.8545\n",
            "Epoch 16/100\n",
            "1/1 [==============================] - 0s 11ms/step - loss: 8.5030 - mae: 8.5030\n",
            "Epoch 17/100\n",
            "1/1 [==============================] - 0s 12ms/step - loss: 8.1275 - mae: 8.1275\n",
            "Epoch 18/100\n",
            "1/1 [==============================] - 0s 13ms/step - loss: 7.7265 - mae: 7.7265\n",
            "Epoch 19/100\n",
            "1/1 [==============================] - 0s 12ms/step - loss: 7.2984 - mae: 7.2984\n",
            "Epoch 20/100\n",
            "1/1 [==============================] - 0s 12ms/step - loss: 6.8435 - mae: 6.8435\n",
            "Epoch 21/100\n",
            "1/1 [==============================] - 0s 11ms/step - loss: 6.3585 - mae: 6.3585\n",
            "Epoch 22/100\n",
            "1/1 [==============================] - 0s 12ms/step - loss: 5.8447 - mae: 5.8447\n",
            "Epoch 23/100\n",
            "1/1 [==============================] - 0s 14ms/step - loss: 5.2966 - mae: 5.2966\n",
            "Epoch 24/100\n",
            "1/1 [==============================] - 0s 15ms/step - loss: 4.7131 - mae: 4.7131\n",
            "Epoch 25/100\n",
            "1/1 [==============================] - 0s 12ms/step - loss: 4.1488 - mae: 4.1488\n",
            "Epoch 26/100\n",
            "1/1 [==============================] - 0s 21ms/step - loss: 3.9523 - mae: 3.9523\n",
            "Epoch 27/100\n",
            "1/1 [==============================] - 0s 12ms/step - loss: 3.9614 - mae: 3.9614\n",
            "Epoch 28/100\n",
            "1/1 [==============================] - 0s 11ms/step - loss: 4.0826 - mae: 4.0826\n",
            "Epoch 29/100\n",
            "1/1 [==============================] - 0s 15ms/step - loss: 4.1865 - mae: 4.1865\n",
            "Epoch 30/100\n",
            "1/1 [==============================] - 0s 15ms/step - loss: 4.3659 - mae: 4.3659\n",
            "Epoch 31/100\n",
            "1/1 [==============================] - 0s 15ms/step - loss: 4.5327 - mae: 4.5327\n",
            "Epoch 32/100\n",
            "1/1 [==============================] - 0s 14ms/step - loss: 4.6214 - mae: 4.6214\n",
            "Epoch 33/100\n",
            "1/1 [==============================] - 0s 11ms/step - loss: 4.6380 - mae: 4.6380\n",
            "Epoch 34/100\n",
            "1/1 [==============================] - 0s 12ms/step - loss: 4.5939 - mae: 4.5939\n",
            "Epoch 35/100\n",
            "1/1 [==============================] - 0s 11ms/step - loss: 4.4974 - mae: 4.4974\n",
            "Epoch 36/100\n",
            "1/1 [==============================] - 0s 13ms/step - loss: 4.3565 - mae: 4.3565\n",
            "Epoch 37/100\n",
            "1/1 [==============================] - 0s 13ms/step - loss: 4.1796 - mae: 4.1796\n",
            "Epoch 38/100\n",
            "1/1 [==============================] - 0s 12ms/step - loss: 4.0742 - mae: 4.0742\n",
            "Epoch 39/100\n",
            "1/1 [==============================] - 0s 12ms/step - loss: 3.9936 - mae: 3.9936\n",
            "Epoch 40/100\n",
            "1/1 [==============================] - 0s 14ms/step - loss: 3.9144 - mae: 3.9144\n",
            "Epoch 41/100\n",
            "1/1 [==============================] - 0s 12ms/step - loss: 3.8371 - mae: 3.8371\n",
            "Epoch 42/100\n",
            "1/1 [==============================] - 0s 13ms/step - loss: 3.7618 - mae: 3.7618\n",
            "Epoch 43/100\n",
            "1/1 [==============================] - 0s 12ms/step - loss: 3.7470 - mae: 3.7470\n",
            "Epoch 44/100\n",
            "1/1 [==============================] - 0s 12ms/step - loss: 3.8031 - mae: 3.8031\n",
            "Epoch 45/100\n",
            "1/1 [==============================] - 0s 11ms/step - loss: 3.8414 - mae: 3.8414\n",
            "Epoch 46/100\n",
            "1/1 [==============================] - 0s 13ms/step - loss: 3.8646 - mae: 3.8646\n",
            "Epoch 47/100\n",
            "1/1 [==============================] - 0s 13ms/step - loss: 3.8950 - mae: 3.8950\n",
            "Epoch 48/100\n",
            "1/1 [==============================] - 0s 13ms/step - loss: 3.8783 - mae: 3.8783\n",
            "Epoch 49/100\n",
            "1/1 [==============================] - 0s 12ms/step - loss: 3.8664 - mae: 3.8664\n",
            "Epoch 50/100\n",
            "1/1 [==============================] - 0s 14ms/step - loss: 3.8469 - mae: 3.8469\n",
            "Epoch 51/100\n",
            "1/1 [==============================] - 0s 12ms/step - loss: 3.8154 - mae: 3.8154\n",
            "Epoch 52/100\n",
            "1/1 [==============================] - 0s 12ms/step - loss: 3.7736 - mae: 3.7736\n",
            "Epoch 53/100\n",
            "1/1 [==============================] - 0s 12ms/step - loss: 3.7219 - mae: 3.7219\n",
            "Epoch 54/100\n",
            "1/1 [==============================] - 0s 11ms/step - loss: 3.6597 - mae: 3.6597\n",
            "Epoch 55/100\n",
            "1/1 [==============================] - 0s 13ms/step - loss: 3.6433 - mae: 3.6433\n",
            "Epoch 56/100\n",
            "1/1 [==============================] - 0s 13ms/step - loss: 3.6679 - mae: 3.6679\n",
            "Epoch 57/100\n",
            "1/1 [==============================] - 0s 14ms/step - loss: 3.6809 - mae: 3.6809\n",
            "Epoch 58/100\n",
            "1/1 [==============================] - 0s 12ms/step - loss: 3.6834 - mae: 3.6834\n",
            "Epoch 59/100\n",
            "1/1 [==============================] - 0s 14ms/step - loss: 3.6769 - mae: 3.6769\n",
            "Epoch 60/100\n",
            "1/1 [==============================] - 0s 12ms/step - loss: 3.6634 - mae: 3.6634\n",
            "Epoch 61/100\n",
            "1/1 [==============================] - 0s 15ms/step - loss: 3.6437 - mae: 3.6437\n",
            "Epoch 62/100\n",
            "1/1 [==============================] - 0s 13ms/step - loss: 3.6161 - mae: 3.6161\n",
            "Epoch 63/100\n",
            "1/1 [==============================] - 0s 12ms/step - loss: 3.5826 - mae: 3.5826\n",
            "Epoch 64/100\n",
            "1/1 [==============================] - 0s 13ms/step - loss: 3.5445 - mae: 3.5445\n",
            "Epoch 65/100\n",
            "1/1 [==============================] - 0s 12ms/step - loss: 3.5029 - mae: 3.5029\n",
            "Epoch 66/100\n",
            "1/1 [==============================] - 0s 12ms/step - loss: 3.5596 - mae: 3.5596\n",
            "Epoch 67/100\n",
            "1/1 [==============================] - 0s 12ms/step - loss: 3.5545 - mae: 3.5545\n",
            "Epoch 68/100\n",
            "1/1 [==============================] - 0s 13ms/step - loss: 3.5547 - mae: 3.5547\n",
            "Epoch 69/100\n",
            "1/1 [==============================] - 0s 13ms/step - loss: 3.5377 - mae: 3.5377\n",
            "Epoch 70/100\n",
            "1/1 [==============================] - 0s 13ms/step - loss: 3.5061 - mae: 3.5061\n",
            "Epoch 71/100\n",
            "1/1 [==============================] - 0s 14ms/step - loss: 3.4606 - mae: 3.4606\n",
            "Epoch 72/100\n",
            "1/1 [==============================] - 0s 18ms/step - loss: 3.4451 - mae: 3.4451\n",
            "Epoch 73/100\n",
            "1/1 [==============================] - 0s 13ms/step - loss: 3.4532 - mae: 3.4532\n",
            "Epoch 74/100\n",
            "1/1 [==============================] - 0s 14ms/step - loss: 3.4517 - mae: 3.4517\n",
            "Epoch 75/100\n",
            "1/1 [==============================] - 0s 14ms/step - loss: 3.4597 - mae: 3.4597\n",
            "Epoch 76/100\n",
            "1/1 [==============================] - 0s 15ms/step - loss: 3.4274 - mae: 3.4274\n",
            "Epoch 77/100\n",
            "1/1 [==============================] - 0s 13ms/step - loss: 3.4058 - mae: 3.4058\n",
            "Epoch 78/100\n",
            "1/1 [==============================] - 0s 14ms/step - loss: 3.3751 - mae: 3.3751\n",
            "Epoch 79/100\n",
            "1/1 [==============================] - 0s 14ms/step - loss: 3.3397 - mae: 3.3397\n",
            "Epoch 80/100\n",
            "1/1 [==============================] - 0s 13ms/step - loss: 3.3470 - mae: 3.3470\n",
            "Epoch 81/100\n",
            "1/1 [==============================] - 0s 14ms/step - loss: 3.3423 - mae: 3.3423\n",
            "Epoch 82/100\n",
            "1/1 [==============================] - 0s 15ms/step - loss: 3.3171 - mae: 3.3171\n",
            "Epoch 83/100\n",
            "1/1 [==============================] - 0s 16ms/step - loss: 3.2738 - mae: 3.2738\n",
            "Epoch 84/100\n",
            "1/1 [==============================] - 0s 17ms/step - loss: 3.2866 - mae: 3.2866\n",
            "Epoch 85/100\n",
            "1/1 [==============================] - 0s 18ms/step - loss: 3.2783 - mae: 3.2783\n",
            "Epoch 86/100\n",
            "1/1 [==============================] - 0s 25ms/step - loss: 3.2707 - mae: 3.2707\n",
            "Epoch 87/100\n",
            "1/1 [==============================] - 0s 16ms/step - loss: 3.2518 - mae: 3.2518\n",
            "Epoch 88/100\n",
            "1/1 [==============================] - 0s 20ms/step - loss: 3.2189 - mae: 3.2189\n",
            "Epoch 89/100\n",
            "1/1 [==============================] - 0s 15ms/step - loss: 3.1878 - mae: 3.1878\n",
            "Epoch 90/100\n",
            "1/1 [==============================] - 0s 15ms/step - loss: 3.1419 - mae: 3.1419\n",
            "Epoch 91/100\n",
            "1/1 [==============================] - 0s 13ms/step - loss: 3.1414 - mae: 3.1414\n",
            "Epoch 92/100\n",
            "1/1 [==============================] - 0s 14ms/step - loss: 3.1260 - mae: 3.1260\n",
            "Epoch 93/100\n",
            "1/1 [==============================] - 0s 15ms/step - loss: 3.0801 - mae: 3.0801\n",
            "Epoch 94/100\n",
            "1/1 [==============================] - 0s 15ms/step - loss: 3.0797 - mae: 3.0797\n",
            "Epoch 95/100\n",
            "1/1 [==============================] - 0s 13ms/step - loss: 3.0430 - mae: 3.0430\n",
            "Epoch 96/100\n",
            "1/1 [==============================] - 0s 13ms/step - loss: 3.0200 - mae: 3.0200\n",
            "Epoch 97/100\n",
            "1/1 [==============================] - 0s 14ms/step - loss: 2.9835 - mae: 2.9835\n",
            "Epoch 98/100\n",
            "1/1 [==============================] - 0s 13ms/step - loss: 2.9471 - mae: 2.9471\n",
            "Epoch 99/100\n",
            "1/1 [==============================] - 0s 12ms/step - loss: 2.9346 - mae: 2.9346\n",
            "Epoch 100/100\n",
            "1/1 [==============================] - 0s 11ms/step - loss: 2.9069 - mae: 2.9069\n"
          ]
        },
        {
          "output_type": "execute_result",
          "data": {
            "text/plain": [
              "<keras.src.callbacks.History at 0x7f00573f6c80>"
            ]
          },
          "metadata": {},
          "execution_count": 62
        }
      ]
    },
    {
      "cell_type": "code",
      "source": [
        "#Remider our data\n",
        "X,y"
      ],
      "metadata": {
        "colab": {
          "base_uri": "https://localhost:8080/"
        },
        "id": "4JrUiZCuXk12",
        "outputId": "fc37d8b5-5260-4b71-9a0f-0f864e1e9f2a"
      },
      "execution_count": 63,
      "outputs": [
        {
          "output_type": "execute_result",
          "data": {
            "text/plain": [
              "(array([-7., -4., -1.,  2.,  5.,  8., 11., 14.]),\n",
              " array([ 3.,  6.,  9., 12., 15., 18., 21., 24.]))"
            ]
          },
          "metadata": {},
          "execution_count": 63
        }
      ]
    },
    {
      "cell_type": "code",
      "source": [
        "#Predict\n",
        "model.predict([17.0]) #should be 27, but it comes to 30.81, even though mae and loss lower than before."
      ],
      "metadata": {
        "colab": {
          "base_uri": "https://localhost:8080/"
        },
        "id": "wv86fIFfXwOf",
        "outputId": "5c604160-568b-45ac-de7b-561342b2922e"
      },
      "execution_count": 64,
      "outputs": [
        {
          "output_type": "stream",
          "name": "stdout",
          "text": [
            "1/1 [==============================] - 0s 158ms/step\n"
          ]
        },
        {
          "output_type": "execute_result",
          "data": {
            "text/plain": [
              "array([[31.192343]], dtype=float32)"
            ]
          },
          "metadata": {},
          "execution_count": 64
        }
      ]
    },
    {
      "cell_type": "markdown",
      "source": [
        "#Evaluating a tensorflow data\n",
        "\n",
        "A typical workflow you'll go through when building neural networking is:\n",
        "  ```\n",
        "  building the model -> evalute it -> tweak it(調整)  -> evalute it -> tweak it(調整) -> evalute it -> tweak it(調整)\n",
        "  ```\n",
        "\n",
        "The tweaking comes from maybe not building a model from scratch but adjusting an existing one.\n",
        "\n",
        "\n",
        "When it comes to evaluation, you'll want to remember the words:\n",
        "\n",
        "**\"visualize, visualize, visualize.\"**\n",
        "\n",
        "This is because you're probably better looking at something (doing) than you are thinking about something.\n",
        "\n",
        "It's a good idea to visualize:\n",
        "\n",
        "\n",
        "The data - what data are you working with? What does it look like?\n",
        "\n",
        "The model itself - what does the architecture look like? What are the different shapes?\n",
        "\n",
        "The training of a model - how does a model perform while it learns?\n",
        "\n",
        "The predictions of a model - how do the predictions of a model line up against the ground truth (the original labels)?\n",
        "\n",
        "\n",
        "\n",
        "\n",
        "Let's start by visualizing the model.\n",
        "\n",
        "But first, we'll create a little bit of a bigger dataset and a new model we can use (it'll be the same as before, but the more practice the better).\n"
      ],
      "metadata": {
        "id": "o-gpp1qmd4wq"
      }
    },
    {
      "cell_type": "code",
      "source": [
        " #make the bigger dataset\n",
        "\n",
        "X= np.arange(-100,100,4)\n",
        "X\n"
      ],
      "metadata": {
        "colab": {
          "base_uri": "https://localhost:8080/"
        },
        "id": "07aZ9jwMX1CL",
        "outputId": "1f4649f5-72a5-4106-c3fc-50d81281cf9e"
      },
      "execution_count": 73,
      "outputs": [
        {
          "output_type": "execute_result",
          "data": {
            "text/plain": [
              "array([-100,  -96,  -92,  -88,  -84,  -80,  -76,  -72,  -68,  -64,  -60,\n",
              "        -56,  -52,  -48,  -44,  -40,  -36,  -32,  -28,  -24,  -20,  -16,\n",
              "        -12,   -8,   -4,    0,    4,    8,   12,   16,   20,   24,   28,\n",
              "         32,   36,   40,   44,   48,   52,   56,   60,   64,   68,   72,\n",
              "         76,   80,   84,   88,   92,   96])"
            ]
          },
          "metadata": {},
          "execution_count": 73
        }
      ]
    },
    {
      "cell_type": "code",
      "source": [
        "# Make the labels for the datasets\n",
        "y =np.arange(-90,110,4)\n",
        "y"
      ],
      "metadata": {
        "colab": {
          "base_uri": "https://localhost:8080/"
        },
        "id": "pWI5ivOdysl5",
        "outputId": "b1ac378d-2dd2-437d-e1ff-811e70c823af"
      },
      "execution_count": 74,
      "outputs": [
        {
          "output_type": "execute_result",
          "data": {
            "text/plain": [
              "array([-90, -86, -82, -78, -74, -70, -66, -62, -58, -54, -50, -46, -42,\n",
              "       -38, -34, -30, -26, -22, -18, -14, -10,  -6,  -2,   2,   6,  10,\n",
              "        14,  18,  22,  26,  30,  34,  38,  42,  46,  50,  54,  58,  62,\n",
              "        66,  70,  74,  78,  82,  86,  90,  94,  98, 102, 106])"
            ]
          },
          "metadata": {},
          "execution_count": 74
        }
      ]
    },
    {
      "cell_type": "code",
      "source": [
        "#Same result as above\n",
        "y= X+10\n",
        "y"
      ],
      "metadata": {
        "colab": {
          "base_uri": "https://localhost:8080/"
        },
        "id": "PoZzFTAqy256",
        "outputId": "4f698b8b-aa91-4e7e-d55d-cef72b2ff928"
      },
      "execution_count": 75,
      "outputs": [
        {
          "output_type": "execute_result",
          "data": {
            "text/plain": [
              "array([-90, -86, -82, -78, -74, -70, -66, -62, -58, -54, -50, -46, -42,\n",
              "       -38, -34, -30, -26, -22, -18, -14, -10,  -6,  -2,   2,   6,  10,\n",
              "        14,  18,  22,  26,  30,  34,  38,  42,  46,  50,  54,  58,  62,\n",
              "        66,  70,  74,  78,  82,  86,  90,  94,  98, 102, 106])"
            ]
          },
          "metadata": {},
          "execution_count": 75
        }
      ]
    },
    {
      "cell_type": "code",
      "source": [
        "#Visulize the data\n",
        "\n",
        "import matplotlib.pyplot as plt\n",
        "\n",
        "#plt.plot(X,y)\n",
        "plt.scatter(X,y)"
      ],
      "metadata": {
        "colab": {
          "base_uri": "https://localhost:8080/",
          "height": 447
        },
        "id": "R1300HqSzEZW",
        "outputId": "d0165840-3107-47b5-9c14-e5ee6ecfe79c"
      },
      "execution_count": 77,
      "outputs": [
        {
          "output_type": "execute_result",
          "data": {
            "text/plain": [
              "<matplotlib.collections.PathCollection at 0x7f0052d7c820>"
            ]
          },
          "metadata": {},
          "execution_count": 77
        },
        {
          "output_type": "display_data",
          "data": {
            "text/plain": [
              "<Figure size 640x480 with 1 Axes>"
            ],
            "image/png": "[encoded data removed]"
          },
          "metadata": {}
        }
      ]
    },
    {
      "cell_type": "markdown",
      "source": [
        "# The 3 Sets...\n",
        "\n",
        "**Split data into training/test set**\n",
        "\n",
        "One of the other most common and important steps in a machine learning project is creating a training and test set (and when required, a validation set).\n",
        "\n",
        "Each set serves a specific purpose:\n",
        "\n",
        "Training set - the model learns from this data, which is typically 70-80% of the total data available (like the course materials you study during the semester).\n",
        "\n",
        "Validation set - the model gets tuned on this data, which is typically 10-15% of the total data available (like the practice exam you take before the final exam).\n",
        "\n",
        "Test set - the model gets evaluated on this data to test what it has learned, it's typically 10-15% of the total data available (like the final exam you take at the end of the semester).\n",
        "\n",
        "For now, we'll just use a training and test set, this means we'll have a dataset for our model to learn on as well as be evaluated on.\n",
        "\n",
        "We can create them by splitting our X and y arrays.\n",
        "\n",
        "🔑 Note: When dealing with real-world data, this step is typically done right at the start of a project (the test set should always be kept separate from all other data). We want our model to learn on training data and then evaluate it on test data to get an indication of how well it generalizes to unseen examples.\n"
      ],
      "metadata": {
        "id": "PE23FvPL8szD"
      }
    },
    {
      "cell_type": "code",
      "source": [
        "#Check how many samples we have\n",
        "len(X)"
      ],
      "metadata": {
        "colab": {
          "base_uri": "https://localhost:8080/"
        },
        "id": "BrhC_WOY1XUv",
        "outputId": "025be76f-43bf-41b6-c49e-bb7daee15814"
      },
      "execution_count": 79,
      "outputs": [
        {
          "output_type": "execute_result",
          "data": {
            "text/plain": [
              "50"
            ]
          },
          "metadata": {},
          "execution_count": 79
        }
      ]
    },
    {
      "cell_type": "code",
      "source": [
        "#Spilt data into train and test datasets\n",
        "X_train = X[:40] #the first 40 examples\n",
        "y_train = y[:40]\n",
        "\n",
        "\n",
        "X_test = X[40:] #the last 10 examples\n",
        "y_test = y[40:]\n",
        "\n",
        "len(X_train), len(X_test)\n"
      ],
      "metadata": {
        "colab": {
          "base_uri": "https://localhost:8080/"
        },
        "id": "UT2K1VRp84Ir",
        "outputId": "a92b6399-84f5-4500-bcb6-86f015afdb44"
      },
      "execution_count": 80,
      "outputs": [
        {
          "output_type": "execute_result",
          "data": {
            "text/plain": [
              "(40, 10)"
            ]
          },
          "metadata": {},
          "execution_count": 80
        }
      ]
    },
    {
      "cell_type": "markdown",
      "source": [
        "# **Visualizing the data**\n",
        "\n",
        "Now we've got our training and test data, it's a good idea to visualize it.\n",
        "\n",
        "Let's plot it with some nice colours to differentiate what's what."
      ],
      "metadata": {
        "id": "yDFynxdU9j1g"
      }
    },
    {
      "cell_type": "code",
      "source": [
        "plt.figure(figsize=(10,7))\n",
        "#plot training data in blue\n",
        "plt.scatter(X_train, y_train, c= 'b', label = 'training data')\n",
        "#plot testing data in green\n",
        "plt.scatter(X_test, y_test, c= 'g', label = 'Testing data')\n",
        "\n",
        "plt.legend();"
      ],
      "metadata": {
        "colab": {
          "base_uri": "https://localhost:8080/",
          "height": 599
        },
        "id": "_nb0Swx29dNn",
        "outputId": "b8260a7e-5b89-479c-f66a-1d9f88471f94"
      },
      "execution_count": 81,
      "outputs": [
        {
          "output_type": "display_data",
          "data": {
            "text/plain": [
              "<Figure size 1000x700 with 1 Axes>"
            ],
            "image/png": "[encoded data removed]"
          },
          "metadata": {}
        }
      ]
    },
    {
      "cell_type": "markdown",
      "source": [
        "Time to build the model"
      ],
      "metadata": {
        "id": "-tpo6wVl-VkM"
      }
    },
    {
      "cell_type": "code",
      "source": [
        "# Set the random seed\n",
        "tf.random.set_seed(42)\n",
        "\n",
        "#Create the model\n",
        "model = tf.keras.Sequential([tf.keras.layers.Dense(1)])\n",
        "\n",
        "\n",
        "#Compile the model\n",
        "model.compile( loss = tf.keras.losses.mae,\n",
        "              optimizer = tf.keras.optimizers.SGD(),\n",
        "               metrics=[\"mae\"])\n",
        "#Fit the model\n",
        "#model.fit(tf.expand_dims(X , axis = -1), y, epochs=100)"
      ],
      "metadata": {
        "id": "DpTIhOIe-N3J"
      },
      "execution_count": 90,
      "outputs": []
    },
    {
      "cell_type": "code",
      "source": [
        "\n",
        "# Doesn't work (model not fit/built) #因為沒有build()或是 fit() model\n",
        "model.summary()"
      ],
      "metadata": {
        "colab": {
          "base_uri": "https://localhost:8080/",
          "height": 318
        },
        "id": "ui4BvR3k_IGU",
        "outputId": "372d10bb-673e-4520-c07d-3111fa6a0a6a"
      },
      "execution_count": 91,
      "outputs": [
        {
          "output_type": "error",
          "ename": "ValueError",
          "evalue": "This model has not yet been built. Build the model first by calling `build()` or by calling the model on a batch of data.",
          "traceback": [
            "\u001b[0;31m---------------------------------------------------------------------------\u001b[0m",
            "\u001b[0;31mValueError\u001b[0m                                Traceback (most recent call last)",
            "\u001b[0;32m<ipython-input-91-7d09d31d4e66>\u001b[0m in \u001b[0;36m<cell line: 2>\u001b[0;34m()\u001b[0m\n\u001b[1;32m      1\u001b[0m \u001b[0;31m# Doesn't work (model not fit/built)\u001b[0m\u001b[0;34m\u001b[0m\u001b[0;34m\u001b[0m\u001b[0m\n\u001b[0;32m----> 2\u001b[0;31m \u001b[0mmodel\u001b[0m\u001b[0;34m.\u001b[0m\u001b[0msummary\u001b[0m\u001b[0;34m(\u001b[0m\u001b[0;34m)\u001b[0m\u001b[0;34m\u001b[0m\u001b[0;34m\u001b[0m\u001b[0m\n\u001b[0m",
            "\u001b[0;32m/usr/local/lib/python3.10/dist-packages/keras/src/engine/training.py\u001b[0m in \u001b[0;36msummary\u001b[0;34m(self, line_length, positions, print_fn, expand_nested, show_trainable, layer_range)\u001b[0m\n\u001b[1;32m   3504\u001b[0m         \"\"\"\n\u001b[1;32m   3505\u001b[0m         \u001b[0;32mif\u001b[0m \u001b[0;32mnot\u001b[0m \u001b[0mself\u001b[0m\u001b[0;34m.\u001b[0m\u001b[0mbuilt\u001b[0m\u001b[0;34m:\u001b[0m\u001b[0;34m\u001b[0m\u001b[0;34m\u001b[0m\u001b[0m\n\u001b[0;32m-> 3506\u001b[0;31m             raise ValueError(\n\u001b[0m\u001b[1;32m   3507\u001b[0m                 \u001b[0;34m\"This model has not yet been built. \"\u001b[0m\u001b[0;34m\u001b[0m\u001b[0;34m\u001b[0m\u001b[0m\n\u001b[1;32m   3508\u001b[0m                 \u001b[0;34m\"Build the model first by calling `build()` or by calling \"\u001b[0m\u001b[0;34m\u001b[0m\u001b[0;34m\u001b[0m\u001b[0m\n",
            "\u001b[0;31mValueError\u001b[0m: This model has not yet been built. Build the model first by calling `build()` or by calling the model on a batch of data."
          ]
        }
      ]
    },
    {
      "cell_type": "code",
      "source": [
        "#如果用build() 需要提供input_shape 參數,此參數可以在Create model 時定義\n",
        "#例如：\n",
        "\n",
        "#Set the random seeds\n",
        "tf.random.set_seed(42)\n",
        "\n",
        "#Create the model\n",
        "model= tf.keras.Sequential([\n",
        "   # tf.keras.layers.Dense(1,input_shape=[1])\n",
        "   #tf.keras.layers.Dense(2,input_shape=[1]) # paramenters:2, dense:2 -> total params:4\n",
        "  tf.keras.layers.Dense(3,input_shape=[1])  # paramenters:2, dense:3 -> total params:6\n",
        "])\n",
        "\n",
        "#Compile the model\n",
        "model.compile(loss = tf.keras.losses.mae,\n",
        "              optimizer = tf.keras.optimizers.SGD(),\n",
        "              metrics = [\"mae\"])\n",
        "\n"
      ],
      "metadata": {
        "id": "8iN2F7yU_ImQ"
      },
      "execution_count": 102,
      "outputs": []
    },
    {
      "cell_type": "code",
      "source": [
        "#model summary\n",
        "\n",
        "model.summary()"
      ],
      "metadata": {
        "colab": {
          "base_uri": "https://localhost:8080/"
        },
        "id": "MwoXOGrYAzwu",
        "outputId": "79053059-baa2-441b-af4f-f2fdf1d795e7"
      },
      "execution_count": 103,
      "outputs": [
        {
          "output_type": "stream",
          "name": "stdout",
          "text": [
            "Model: \"sequential_27\"\n",
            "_________________________________________________________________\n",
            " Layer (type)                Output Shape              Param #   \n",
            "=================================================================\n",
            " dense_50 (Dense)            (None, 3)                 6         \n",
            "                                                                 \n",
            "=================================================================\n",
            "Total params: 6 (24.00 Byte)\n",
            "Trainable params: 6 (24.00 Byte)\n",
            "Non-trainable params: 0 (0.00 Byte)\n",
            "_________________________________________________________________\n"
          ]
        }
      ]
    },
    {
      "cell_type": "markdown",
      "source": [
        "Calling summary() on our model shows us the layers it contains, the output shape and the number of parameters.\n",
        "\n",
        "Total params - total number of parameters in the model.\n",
        "\n",
        "Trainable parameters - these are the parameters (patterns) the model can update as it trains.\n",
        "\n",
        "Non-trainable parameters - these parameters aren't updated during training (this is typical when you bring in the already learned patterns from other models during transfer learning).\n",
        "\n",
        "📖 Resource: For a more in-depth overview of the trainable parameters within a layer, check out MIT's introduction to deep learning video.\n",
        "[https://www.youtube.com/watch?v=njKP3FqW3Sk](https://)\n",
        "\n",
        "\n",
        "\n",
        "🛠 Exercise: Try playing around with the number of hidden units in the Dense layer (e.g. Dense(2), Dense(3)). How does this change the Total/Trainable params? Investigate what's causing the change.\n",
        "\n",
        "For now, all you need to think about these parameters is that their learnable patterns in the data.\n",
        "\n",
        "Let's fit our model to the training data."
      ],
      "metadata": {
        "id": "G1K3mLrxHHoZ"
      }
    },
    {
      "cell_type": "code",
      "source": [
        "model.fit(X_train, y_train, epochs=100, verbose=1)"
      ],
      "metadata": {
        "colab": {
          "base_uri": "https://localhost:8080/"
        },
        "id": "uHf9mO5MA5sK",
        "outputId": "7cdb7c73-c88d-4955-ecdc-61b2a6b928d7"
      },
      "execution_count": 105,
      "outputs": [
        {
          "output_type": "stream",
          "name": "stdout",
          "text": [
            "Epoch 1/100\n",
            "2/2 [==============================] - 0s 10ms/step - loss: 8.1707 - mae: 8.1707\n",
            "Epoch 2/100\n",
            "2/2 [==============================] - 0s 8ms/step - loss: 7.3437 - mae: 7.3437\n",
            "Epoch 3/100\n",
            "2/2 [==============================] - 0s 8ms/step - loss: 8.4998 - mae: 8.4998\n",
            "Epoch 4/100\n",
            "2/2 [==============================] - 0s 8ms/step - loss: 7.6276 - mae: 7.6276\n",
            "Epoch 5/100\n",
            "2/2 [==============================] - 0s 8ms/step - loss: 7.7717 - mae: 7.7717\n",
            "Epoch 6/100\n",
            "2/2 [==============================] - 0s 8ms/step - loss: 7.2750 - mae: 7.2750\n",
            "Epoch 7/100\n",
            "2/2 [==============================] - 0s 8ms/step - loss: 7.7193 - mae: 7.7193\n",
            "Epoch 8/100\n",
            "2/2 [==============================] - 0s 8ms/step - loss: 7.3944 - mae: 7.3944\n",
            "Epoch 9/100\n",
            "2/2 [==============================] - 0s 8ms/step - loss: 8.4750 - mae: 8.4750\n",
            "Epoch 10/100\n",
            "2/2 [==============================] - 0s 8ms/step - loss: 8.3014 - mae: 8.3014\n",
            "Epoch 11/100\n",
            "2/2 [==============================] - 0s 9ms/step - loss: 7.5510 - mae: 7.5510\n",
            "Epoch 12/100\n",
            "2/2 [==============================] - 0s 9ms/step - loss: 7.3526 - mae: 7.3526\n",
            "Epoch 13/100\n",
            "2/2 [==============================] - 0s 11ms/step - loss: 7.7144 - mae: 7.7144\n",
            "Epoch 14/100\n",
            "2/2 [==============================] - 0s 8ms/step - loss: 7.6910 - mae: 7.6910\n",
            "Epoch 15/100\n",
            "2/2 [==============================] - 0s 11ms/step - loss: 8.4333 - mae: 8.4333\n",
            "Epoch 16/100\n",
            "2/2 [==============================] - 0s 9ms/step - loss: 7.2923 - mae: 7.2923\n",
            "Epoch 17/100\n",
            "2/2 [==============================] - 0s 9ms/step - loss: 7.2112 - mae: 7.2112\n",
            "Epoch 18/100\n",
            "2/2 [==============================] - 0s 10ms/step - loss: 8.0820 - mae: 8.0820\n",
            "Epoch 19/100\n",
            "2/2 [==============================] - 0s 9ms/step - loss: 8.8466 - mae: 8.8466\n",
            "Epoch 20/100\n",
            "2/2 [==============================] - 0s 9ms/step - loss: 7.9720 - mae: 7.9720\n",
            "Epoch 21/100\n",
            "2/2 [==============================] - 0s 9ms/step - loss: 7.8834 - mae: 7.8834\n",
            "Epoch 22/100\n",
            "2/2 [==============================] - 0s 8ms/step - loss: 8.1801 - mae: 8.1801\n",
            "Epoch 23/100\n",
            "2/2 [==============================] - 0s 11ms/step - loss: 7.2221 - mae: 7.2221\n",
            "Epoch 24/100\n",
            "2/2 [==============================] - 0s 9ms/step - loss: 8.5062 - mae: 8.5062\n",
            "Epoch 25/100\n",
            "2/2 [==============================] - 0s 11ms/step - loss: 7.9392 - mae: 7.9392\n",
            "Epoch 26/100\n",
            "2/2 [==============================] - 0s 9ms/step - loss: 7.7025 - mae: 7.7025\n",
            "Epoch 27/100\n",
            "2/2 [==============================] - 0s 8ms/step - loss: 8.0550 - mae: 8.0550\n",
            "Epoch 28/100\n",
            "2/2 [==============================] - 0s 8ms/step - loss: 7.7022 - mae: 7.7022\n",
            "Epoch 29/100\n",
            "2/2 [==============================] - 0s 9ms/step - loss: 7.7136 - mae: 7.7136\n",
            "Epoch 30/100\n",
            "2/2 [==============================] - 0s 12ms/step - loss: 10.0184 - mae: 10.0184\n",
            "Epoch 31/100\n",
            "2/2 [==============================] - 0s 9ms/step - loss: 10.2627 - mae: 10.2627\n",
            "Epoch 32/100\n",
            "2/2 [==============================] - 0s 8ms/step - loss: 7.2270 - mae: 7.2270\n",
            "Epoch 33/100\n",
            "2/2 [==============================] - 0s 8ms/step - loss: 7.7925 - mae: 7.7925\n",
            "Epoch 34/100\n",
            "2/2 [==============================] - 0s 9ms/step - loss: 8.5548 - mae: 8.5548\n",
            "Epoch 35/100\n",
            "2/2 [==============================] - 0s 8ms/step - loss: 7.8825 - mae: 7.8825\n",
            "Epoch 36/100\n",
            "2/2 [==============================] - 0s 8ms/step - loss: 9.1491 - mae: 9.1491\n",
            "Epoch 37/100\n",
            "2/2 [==============================] - 0s 8ms/step - loss: 7.5444 - mae: 7.5444\n",
            "Epoch 38/100\n",
            "2/2 [==============================] - 0s 8ms/step - loss: 7.3413 - mae: 7.3413\n",
            "Epoch 39/100\n",
            "2/2 [==============================] - 0s 10ms/step - loss: 8.7145 - mae: 8.7145\n",
            "Epoch 40/100\n",
            "2/2 [==============================] - 0s 9ms/step - loss: 7.7636 - mae: 7.7636\n",
            "Epoch 41/100\n",
            "2/2 [==============================] - 0s 12ms/step - loss: 7.6928 - mae: 7.6928\n",
            "Epoch 42/100\n",
            "2/2 [==============================] - 0s 9ms/step - loss: 7.2176 - mae: 7.2176\n",
            "Epoch 43/100\n",
            "2/2 [==============================] - 0s 8ms/step - loss: 7.3621 - mae: 7.3621\n",
            "Epoch 44/100\n",
            "2/2 [==============================] - 0s 12ms/step - loss: 8.0228 - mae: 8.0228\n",
            "Epoch 45/100\n",
            "2/2 [==============================] - 0s 11ms/step - loss: 8.2467 - mae: 8.2467\n",
            "Epoch 46/100\n",
            "2/2 [==============================] - 0s 9ms/step - loss: 7.6603 - mae: 7.6603\n",
            "Epoch 47/100\n",
            "2/2 [==============================] - 0s 11ms/step - loss: 7.1630 - mae: 7.1630\n",
            "Epoch 48/100\n",
            "2/2 [==============================] - 0s 14ms/step - loss: 7.5497 - mae: 7.5497\n",
            "Epoch 49/100\n",
            "2/2 [==============================] - 0s 10ms/step - loss: 7.0475 - mae: 7.0475\n",
            "Epoch 50/100\n",
            "2/2 [==============================] - 0s 9ms/step - loss: 7.8636 - mae: 7.8636\n",
            "Epoch 51/100\n",
            "2/2 [==============================] - 0s 9ms/step - loss: 7.6432 - mae: 7.6432\n",
            "Epoch 52/100\n",
            "2/2 [==============================] - 0s 10ms/step - loss: 8.1251 - mae: 8.1251\n",
            "Epoch 53/100\n",
            "2/2 [==============================] - 0s 10ms/step - loss: 8.7328 - mae: 8.7328\n",
            "Epoch 54/100\n",
            "2/2 [==============================] - 0s 8ms/step - loss: 7.3645 - mae: 7.3645\n",
            "Epoch 55/100\n",
            "2/2 [==============================] - 0s 10ms/step - loss: 7.4519 - mae: 7.4519\n",
            "Epoch 56/100\n",
            "2/2 [==============================] - 0s 9ms/step - loss: 7.4311 - mae: 7.4311\n",
            "Epoch 57/100\n",
            "2/2 [==============================] - 0s 9ms/step - loss: 7.0942 - mae: 7.0942\n",
            "Epoch 58/100\n",
            "2/2 [==============================] - 0s 8ms/step - loss: 7.3484 - mae: 7.3484\n",
            "Epoch 59/100\n",
            "2/2 [==============================] - 0s 8ms/step - loss: 7.4658 - mae: 7.4658\n",
            "Epoch 60/100\n",
            "2/2 [==============================] - 0s 13ms/step - loss: 7.1596 - mae: 7.1596\n",
            "Epoch 61/100\n",
            "2/2 [==============================] - 0s 8ms/step - loss: 7.3977 - mae: 7.3977\n",
            "Epoch 62/100\n",
            "2/2 [==============================] - 0s 8ms/step - loss: 7.3509 - mae: 7.3509\n",
            "Epoch 63/100\n",
            "2/2 [==============================] - 0s 9ms/step - loss: 7.1988 - mae: 7.1988\n",
            "Epoch 64/100\n",
            "2/2 [==============================] - 0s 8ms/step - loss: 7.5785 - mae: 7.5785\n",
            "Epoch 65/100\n",
            "2/2 [==============================] - 0s 9ms/step - loss: 7.5373 - mae: 7.5373\n",
            "Epoch 66/100\n",
            "2/2 [==============================] - 0s 8ms/step - loss: 8.1658 - mae: 8.1658\n",
            "Epoch 67/100\n",
            "2/2 [==============================] - 0s 9ms/step - loss: 7.2736 - mae: 7.2736\n",
            "Epoch 68/100\n",
            "2/2 [==============================] - 0s 10ms/step - loss: 7.3130 - mae: 7.3130\n",
            "Epoch 69/100\n",
            "2/2 [==============================] - 0s 9ms/step - loss: 8.1583 - mae: 8.1583\n",
            "Epoch 70/100\n",
            "2/2 [==============================] - 0s 11ms/step - loss: 7.0410 - mae: 7.0410\n",
            "Epoch 71/100\n",
            "2/2 [==============================] - 0s 8ms/step - loss: 8.0012 - mae: 8.0012\n",
            "Epoch 72/100\n",
            "2/2 [==============================] - 0s 8ms/step - loss: 7.2935 - mae: 7.2935\n",
            "Epoch 73/100\n",
            "2/2 [==============================] - 0s 8ms/step - loss: 7.9349 - mae: 7.9349\n",
            "Epoch 74/100\n",
            "2/2 [==============================] - 0s 10ms/step - loss: 8.8502 - mae: 8.8502\n",
            "Epoch 75/100\n",
            "2/2 [==============================] - 0s 9ms/step - loss: 7.1656 - mae: 7.1656\n",
            "Epoch 76/100\n",
            "2/2 [==============================] - 0s 10ms/step - loss: 7.1106 - mae: 7.1106\n",
            "Epoch 77/100\n",
            "2/2 [==============================] - 0s 9ms/step - loss: 7.6376 - mae: 7.6376\n",
            "Epoch 78/100\n",
            "2/2 [==============================] - 0s 9ms/step - loss: 7.1192 - mae: 7.1192\n",
            "Epoch 79/100\n",
            "2/2 [==============================] - 0s 9ms/step - loss: 7.9697 - mae: 7.9697\n",
            "Epoch 80/100\n",
            "2/2 [==============================] - 0s 11ms/step - loss: 7.5045 - mae: 7.5045\n",
            "Epoch 81/100\n",
            "2/2 [==============================] - 0s 8ms/step - loss: 7.4694 - mae: 7.4694\n",
            "Epoch 82/100\n",
            "2/2 [==============================] - 0s 9ms/step - loss: 7.7021 - mae: 7.7021\n",
            "Epoch 83/100\n",
            "2/2 [==============================] - 0s 11ms/step - loss: 7.0055 - mae: 7.0055\n",
            "Epoch 84/100\n",
            "2/2 [==============================] - 0s 9ms/step - loss: 7.1692 - mae: 7.1692\n",
            "Epoch 85/100\n",
            "2/2 [==============================] - 0s 9ms/step - loss: 8.2731 - mae: 8.2731\n",
            "Epoch 86/100\n",
            "2/2 [==============================] - 0s 9ms/step - loss: 7.6007 - mae: 7.6007\n",
            "Epoch 87/100\n",
            "2/2 [==============================] - 0s 9ms/step - loss: 7.1929 - mae: 7.1929\n",
            "Epoch 88/100\n",
            "2/2 [==============================] - 0s 8ms/step - loss: 8.7506 - mae: 8.7506\n",
            "Epoch 89/100\n",
            "2/2 [==============================] - 0s 11ms/step - loss: 7.2027 - mae: 7.2027\n",
            "Epoch 90/100\n",
            "2/2 [==============================] - 0s 8ms/step - loss: 8.6315 - mae: 8.6315\n",
            "Epoch 91/100\n",
            "2/2 [==============================] - 0s 8ms/step - loss: 7.1620 - mae: 7.1620\n",
            "Epoch 92/100\n",
            "2/2 [==============================] - 0s 9ms/step - loss: 7.4178 - mae: 7.4178\n",
            "Epoch 93/100\n",
            "2/2 [==============================] - 0s 10ms/step - loss: 7.2135 - mae: 7.2135\n",
            "Epoch 94/100\n",
            "2/2 [==============================] - 0s 9ms/step - loss: 7.9791 - mae: 7.9791\n",
            "Epoch 95/100\n",
            "2/2 [==============================] - 0s 9ms/step - loss: 8.1598 - mae: 8.1598\n",
            "Epoch 96/100\n",
            "2/2 [==============================] - 0s 8ms/step - loss: 6.9997 - mae: 6.9997\n",
            "Epoch 97/100\n",
            "2/2 [==============================] - 0s 9ms/step - loss: 8.9011 - mae: 8.9011\n",
            "Epoch 98/100\n",
            "2/2 [==============================] - 0s 9ms/step - loss: 6.9228 - mae: 6.9228\n",
            "Epoch 99/100\n",
            "2/2 [==============================] - 0s 9ms/step - loss: 7.2438 - mae: 7.2438\n",
            "Epoch 100/100\n",
            "2/2 [==============================] - 0s 12ms/step - loss: 7.7811 - mae: 7.7811\n"
          ]
        },
        {
          "output_type": "execute_result",
          "data": {
            "text/plain": [
              "<keras.src.callbacks.History at 0x7f004cf3c3d0>"
            ]
          },
          "metadata": {},
          "execution_count": 105
        }
      ]
    },
    {
      "cell_type": "code",
      "source": [],
      "metadata": {
        "id": "40e2txs1PLOw"
      },
      "execution_count": null,
      "outputs": []
    }
  ]
}